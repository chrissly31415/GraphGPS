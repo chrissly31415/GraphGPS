{
 "cells": [
  {
   "cell_type": "markdown",
   "id": "7d8530a3",
   "metadata": {},
   "source": [
    "## Inference for GPS"
   ]
  },
  {
   "cell_type": "code",
   "execution_count": 35,
   "id": "2a11f84b",
   "metadata": {},
   "outputs": [
    {
     "name": "stdout",
     "output_type": "stream",
     "text": [
      "The autoreload extension is already loaded. To reload it, use:\n",
      "  %reload_ext autoreload\n"
     ]
    }
   ],
   "source": [
    "import torch\n",
    "\n",
    "from torch_geometric.graphgym.loader import create_dataset, DataLoader, load_pyg\n",
    "from torch_geometric.graphgym.config import cfg, set_cfg, assert_cfg\n",
    "from torch_geometric.graphgym.checkpoint import MODEL_STATE\n",
    "from torch_geometric.graphgym.model_builder import create_model\n",
    "from torch_geometric.graphgym.utils.device import auto_select_device\n",
    "\n",
    "import graphgps # register modules\n",
    "from graphgps.finetuning import load_pretrained_model_cfg, init_model_from_pretrained\n",
    "from graphgps.loader.dataset.custom_datasets import AQSOL,OPERA, SDF, ZINC\n",
    "\n",
    "import numpy as np\n",
    "from scipy.stats import pearsonr\n",
    "from sklearn.metrics import mean_absolute_error, mean_squared_error\n",
    "import pandas as pd\n",
    "\n",
    "%load_ext autoreload\n",
    "%autoreload 2\n"
   ]
  },
  {
   "cell_type": "code",
   "execution_count": 46,
   "id": "f74a0521",
   "metadata": {},
   "outputs": [
    {
     "data": {
      "text/plain": [
       "CfgNode({'print': 'both', 'accelerator': 'auto', 'devices': None, 'out_dir': 'results', 'cfg_dest': 'config.yaml', 'custom_metrics': [], 'seed': 0, 'round': 5, 'tensorboard_each_run': False, 'tensorboard_agg': True, 'num_workers': 0, 'num_threads': 6, 'metric_best': 'mae', 'metric_agg': 'argmin', 'view_emb': False, 'gpu_mem': False, 'benchmark': False, 'share': CfgNode({'dim_in': 1, 'dim_out': 1, 'num_splits': 1}), 'dataset': CfgNode({'name': '/NEWDATA/moldata/sampl6/testset_logp2.csv', 'format': 'PyG-SDF', 'dir': './datasets', 'task': 'graph', 'task_type': 'regression', 'transductive': False, 'split': [0.8, 0.1, 0.1], 'shuffle_split': True, 'split_mode': 'random', 'encoder': True, 'encoder_name': 'db', 'encoder_bn': True, 'node_encoder': True, 'node_encoder_name': 'TypeDictNode+RWSE', 'node_encoder_bn': False, 'edge_encoder': True, 'edge_encoder_name': 'TypeDictEdge', 'edge_encoder_bn': False, 'encoder_dim': 128, 'edge_dim': 128, 'edge_train_mode': 'all', 'edge_message_ratio': 0.8, 'edge_negative_sampling_ratio': 1.0, 'resample_disjoint': False, 'resample_negative': False, 'transform': 'none', 'cache_save': False, 'cache_load': False, 'remove_feature': False, 'tu_simple': True, 'to_undirected': False, 'location': 'local', 'label_table': 'none', 'label_column': 'none', 'node_encoder_num_types': 28, 'edge_encoder_num_types': 4, 'slic_compactness': 10, 'infer_link_label': 'None', 'split_index': 0, 'split_dir': './splits'}), 'train': CfgNode({'batch_size': 32, 'sampler': 'full_batch', 'sample_node': False, 'node_per_graph': 32, 'radius': 'extend', 'eval_period': 10, 'skip_train_eval': False, 'ckpt_period': 100, 'enable_ckpt': True, 'auto_resume': False, 'epoch_resume': -1, 'ckpt_clean': True, 'iter_per_epoch': 32, 'walk_length': 4, 'neighbor_sizes': [20, 15, 10, 5], 'mode': 'inference-only', 'ckpt_best': False}), 'val': CfgNode({'sample_node': False, 'sampler': 'full_batch', 'node_per_graph': 32, 'radius': 'extend'}), 'model': CfgNode({'type': 'GPSModel', 'match_upper': True, 'loss_fun': 'l1', 'size_average': 'mean', 'thresh': 0.5, 'edge_decoding': 'dot', 'graph_pooling': 'add'}), 'gnn': CfgNode({'head': 'san_graph', 'layers_pre_mp': 0, 'layers_mp': 2, 'layers_post_mp': 3, 'dim_inner': 64, 'layer_type': 'generalconv', 'stage_type': 'stack', 'skip_every': 1, 'batchnorm': True, 'act': 'relu', 'dropout': 0.0, 'agg': 'mean', 'normalize_adj': False, 'msg_direction': 'single', 'self_msg': 'concat', 'att_heads': 1, 'att_final_linear': False, 'att_final_linear_bn': False, 'l2norm': True, 'keep_edge': 0.5, 'clear_feature': True, 'residual': False}), 'optim': CfgNode({'optimizer': 'adam', 'base_lr': 0.01, 'weight_decay': 0.0005, 'momentum': 0.9, 'scheduler': 'cos', 'steps': [30, 60, 90], 'lr_decay': 0.1, 'max_epoch': 200, 'batch_accumulation': 1, 'reduce_factor': 0.1, 'schedule_patience': 10, 'min_lr': 0.0, 'num_warmup_epochs': 50, 'clip_grad_norm': False, 'clip_grad_norm_value': 1.0}), 'bn': CfgNode({'eps': 1e-05, 'mom': 0.1}), 'mem': CfgNode({'inplace': False}), 'pretrained': CfgNode({'dir': 'pretrained/logp-GPS+RWSE-ckptbest', 'reset_prediction_head': False, 'freeze_main': False}), 'gt': CfgNode({'layer_type': 'GINE+Transformer', 'layers': 10, 'n_heads': 4, 'dim_hidden': 64, 'full_graph': True, 'gamma': 1e-05, 'pna_degrees': [], 'dropout': 0.0, 'attn_dropout': 0.5, 'layer_norm': False, 'batch_norm': True, 'residual': True, 'bigbird': CfgNode({'attention_type': 'block_sparse', 'chunk_size_feed_forward': 0, 'is_decoder': False, 'add_cross_attention': False, 'hidden_act': 'relu', 'max_position_embeddings': 128, 'use_bias': False, 'num_random_blocks': 3, 'block_size': 3, 'layer_norm_eps': 1e-06})}), 'wandb': CfgNode({'use': False, 'entity': 'gtransformers', 'project': 'scratch', 'name': ''}), 'run_multiple_splits': [], 'posenc_LapPE': CfgNode({'enable': False, 'model': 'none', 'dim_pe': 16, 'layers': 3, 'n_heads': 4, 'post_layers': 0, 'raw_norm_type': 'none', 'pass_as_var': False, 'eigen': CfgNode({'laplacian_norm': 'sym', 'eigvec_norm': 'L2', 'max_freqs': 10})}), 'posenc_SignNet': CfgNode({'enable': False, 'model': 'none', 'dim_pe': 16, 'layers': 3, 'n_heads': 4, 'post_layers': 0, 'raw_norm_type': 'none', 'pass_as_var': False, 'eigen': CfgNode({'laplacian_norm': 'sym', 'eigvec_norm': 'L2', 'max_freqs': 10}), 'phi_out_dim': 4, 'phi_hidden_dim': 64}), 'posenc_RWSE': CfgNode({'enable': True, 'model': 'Linear', 'dim_pe': 28, 'layers': 3, 'n_heads': 4, 'post_layers': 0, 'raw_norm_type': 'BatchNorm', 'pass_as_var': False, 'kernel': CfgNode({'times': [], 'times_func': 'range(1,21)'})}), 'posenc_HKdiagSE': CfgNode({'enable': False, 'model': 'none', 'dim_pe': 16, 'layers': 3, 'n_heads': 4, 'post_layers': 0, 'raw_norm_type': 'none', 'pass_as_var': False, 'kernel': CfgNode({'times': [], 'times_func': ''})}), 'posenc_ElstaticSE': CfgNode({'enable': False, 'model': 'none', 'dim_pe': 16, 'layers': 3, 'n_heads': 4, 'post_layers': 0, 'raw_norm_type': 'none', 'pass_as_var': False, 'kernel': CfgNode({'times': [], 'times_func': 'range(10)'})}), 'posenc_EquivStableLapPE': CfgNode({'enable': False, 'raw_norm_type': 'none', 'eigen': CfgNode({'laplacian_norm': 'sym', 'eigvec_norm': 'L2', 'max_freqs': 10})}), 'example_arg': 'example', 'example_group': CfgNode({'example_arg': 'example'}), 'name_tag': '', 'graphormer': CfgNode({'num_layers': 6, 'embed_dim': 80, 'num_heads': 4, 'dropout': 0.0, 'attention_dropout': 0.0, 'mlp_dropout': 0.0, 'input_dropout': 0.0, 'use_graph_token': True}), 'posenc_GraphormerBias': CfgNode({'enable': False, 'node_degrees_only': False, 'dim_pe': 0, 'num_spatial_types': None, 'num_in_degrees': None, 'num_out_degrees': None})})"
      ]
     },
     "execution_count": 46,
     "metadata": {},
     "output_type": "execute_result"
    }
   ],
   "source": [
    "cfg_file = \"/home/loschen/calc/GraphGPS/configs/GPS/molfile-inference.yaml\"\n",
    "set_cfg(cfg)\n",
    "cfg.merge_from_file(cfg_file)\n",
    "cfg = load_pretrained_model_cfg(cfg)\n",
    "cfg.dataset.name = \"/NEWDATA/moldata/sampl6/testset_logp2.csv\"\n",
    "cfg"
   ]
  },
  {
   "cell_type": "code",
   "execution_count": 48,
   "id": "03286a3c",
   "metadata": {},
   "outputs": [
    {
     "name": "stderr",
     "output_type": "stream",
     "text": [
      "Processing...\n"
     ]
    },
    {
     "name": "stdout",
     "output_type": "stream",
     "text": [
      "    no                                             SMILES   \n",
      "0    1  CC1=C(C2=C(N1C(=O)C3=CC=C(C=C3)Cl)C=CC(=C2)OC)...  \\\n",
      "1    2                   CC(C)NCC(COC1=CC=CC2=CC=CC=C21)O   \n",
      "2    3                                     C1=CC=C(C=C1)O   \n",
      "3    4           C1=CC=C(C(=C1)CC(=O)O)NC2=C(C=CC=C2Cl)Cl   \n",
      "4    5                                C1=CC=C(C=C1)C(=O)O   \n",
      "5    6                             C1=CC=C(C(=C1)C(=O)O)N   \n",
      "6    7                        CN1C2=C(C(=O)N(C1=O)C)NC=N2   \n",
      "7    8     C1=COC(=C1)CNC2=CC(=C(C=C2C(=O)O)S(=O)(=O)N)Cl   \n",
      "8    9                                            CC(=S)N   \n",
      "9   10  C1CN(CCC1N2C3=C(C=C(C=C3)Cl)NC2=O)CCCN4C5=CC=C...   \n",
      "10  11                                 CC(=O)NC1=CC=CC=C1   \n",
      "11  12                             C1=CC=C(C(=C1)C(=O)O)O   \n",
      "12  13                                            CC(=O)O   \n",
      "13  14                                    C1=CC=C(C=C1)CN   \n",
      "14  15                              COC(=O)C1=CC=C(C=C1)O   \n",
      "15  16                              CC(=O)NC1=CC=C(C=C1)O   \n",
      "16  17                            CCOC1=CC=C(C=C1)NC(=O)C   \n",
      "17  18                                    C1=CC(=CC=C1N)O   \n",
      "18  19                       CN1C=NC2=C1C(=O)N(C(=O)N2C)C   \n",
      "19  20  C1C(=O)NC2=C(C=C(C=C2)[N+](=O)[O-])C(=N1)C3=CC...   \n",
      "20  21               CN(C)CCC=C1C2=CC=CC=C2CCC3=CC=CC=C31   \n",
      "21  22               CN(C)CCC(C1=CC=C(C=C1)Cl)C2=CC=CC=N2   \n",
      "22  23                C1(=C(N=C(C(=N1)Cl)N)N)C(=O)N=C(N)N   \n",
      "23  24                      CC(C)CC1=CC=C(C=C1)C(C)C(=O)O   \n",
      "24  25          C1=CC=C(C=C1)C2(C(=O)NC(=O)N2)C3=CC=CC=C3   \n",
      "25  26                  CN(C)CCOC(C1=CC=CC=C1)C2=CC=CC=C2   \n",
      "26  27             CN(C)CCCN1C2=CC=CC=C2SC3=C1C=C(C=C3)Cl   \n",
      "27  28                                C1=CC=C(C=C1)C(=O)N   \n",
      "28  29                                           C1CCCCC1   \n",
      "29  30                                          C1CCC=CC1   \n",
      "30  31                          C1=CC2=C(C=C1O)C(=CN2)CCN   \n",
      "31  32                                C1=CC=C2C(=C1)C=CN2   \n",
      "32  33                                 CN1C=CC2=CC=CC=C21   \n",
      "33  34                                 CC1=CC2=CC=CC=C2N1   \n",
      "34  35                                 CC1=CNC2=CC=CC=C12   \n",
      "35  36                               CC1=CC2=C(C=C1)NC=C2   \n",
      "36  37                                CC1=CC2=CC=CC=C2N1C   \n",
      "37  38                     CC(=O)NCCC1=CNC2=C1C=C(C=C2)OC   \n",
      "38  39                   C1=CC=C2C(=C1)C(=CN2)CC(C(=O)O)N   \n",
      "39  40                           C1=CC=C2C(=C1)C(=CN2)CCN   \n",
      "40  41                                 CC(=O)NC(CS)C(=O)O   \n",
      "41  42                           COC1=CC2=C(C=C1)NC=C2CCN   \n",
      "42  43                  CC(=O)NCCC1=CNC2=CC(=C(C=C21)OC)O   \n",
      "43  44                       C1=CC=C2C(=C1)C(=CN2)CC(=O)O   \n",
      "44  45                      C1=CC2=C(C=C1O)C(=CN2)CC(=O)O   \n",
      "45  46                         CC(=O)NCCC1=CNC2=CC=CC=C21   \n",
      "46  47                     CC1=NC=CC2=C1NC3=C2C=CC(=C3)OC   \n",
      "47  49                CC(=O)NCCC(=O)C1=C(C=CC(=C1)OC)NC=O   \n",
      "48  50                       CC(=O)NCCc1[nH]c2ccc(C)cc2c1   \n",
      "49  51                       CC(=O)NCCc1[nH]c2ccc(F)cc2c1   \n",
      "50  52                      CC(=O)NCCc1[nH]c2ccc(Cl)cc2c1   \n",
      "51  53                    NC(CC(=O)c1cc(O)ccc1NC=O)C(O)=O   \n",
      "52  54                      COc1ccc2c(CCNC(C)=O)c[nH]c2c1   \n",
      "\n",
      "                                          compound        CAS No.  logP   \n",
      "0                                     indomethacin        53-86-1  3.52  \\\n",
      "1                                      propoanolol       525-66-6  3.48   \n",
      "2                                           phenol       108-95-2  1.48   \n",
      "3                                       diclofenac     15307-86-5  4.51   \n",
      "4                                     benzoic acid        65-85-0  1.96   \n",
      "5                              2-aminobenzoic acid       118-92-3  1.26   \n",
      "6                                      theophyline        58-55-9  0.00   \n",
      "7                                       furosemide        54-31-9  2.56   \n",
      "8                                    thioacetamide        62-55-5 -0.26   \n",
      "9                                      domperidone     57808-66-9  3.90   \n",
      "10                                     acetanilide       103-84-4  1.13   \n",
      "11                                 salicyclic acid        69-72-7  2.19   \n",
      "12                                     acetic acid        64-19-7 -0.30   \n",
      "13                                     benzylamine       100-46-9  1.09   \n",
      "14                                   methylparaben        99-76-3  1.96   \n",
      "15                                   Acetaminophen       103-90-2  0.44   \n",
      "16                                      phenacetin        62-44-2  1.48   \n",
      "17                                   4-aminophenol       123-30-8  0.04   \n",
      "18                                        caffeine        58-08-2 -0.07   \n",
      "19                                      clonazepan      1622-61-3  3.02   \n",
      "20                                   amitryptyline        50-48-6  4.62   \n",
      "21                               chloropheniramine       132-22-9  3.39   \n",
      "22                                   amiloride.HCl      2016-88-8 -0.30   \n",
      "23                                       ibuprofen     15687-27-1  4.13   \n",
      "24                                       phenytoin        57-41-0  2.47   \n",
      "25                          diphenylhydramine. HCl        58-73-1  3.18   \n",
      "26                              chloroprozamin.HCl        69-09-0  5.40   \n",
      "27                                       benzamide        55-21-0  0.64   \n",
      "28                                     cyclohexane       110-82-7  3.44   \n",
      "29                                     cyclohexene       110-83-8  2.86   \n",
      "30                                       serotonin       153-98-0  0.21   \n",
      "31                                          indole       120-72-9  2.14   \n",
      "32                                  1-methylindole       603-76-9  2.71   \n",
      "33                                  2-methylindole        95-20-5  2.53   \n",
      "34                                  3-methylindole        83-34-1  2.63   \n",
      "35                                  5-methylindole       614-96-0  2.68   \n",
      "36                              1,2-dimethylindole       875-79-6  2.82   \n",
      "37                                       melatonin        73-31-4  1.20   \n",
      "38                                      tryptophan        73-22-3 -1.06   \n",
      "39                                      tryptamine        61-54-1  1.41   \n",
      "40                               N-acetylserotonin       616-91-1  0.44   \n",
      "41                             5-Methoxytryptamine       608-07-1  1.34   \n",
      "42                              6-hydroxymelatonin      2208-41-5  1.82   \n",
      "43                             3-indoleacetic acid        87-51-4  1.71   \n",
      "44                   5-hydroxy-3-indoleacetic acid        54-16-0  2.10   \n",
      "45                              N-acetyltryptamine      1016-47-3  1.34   \n",
      "46                                         harmine       442-51-3  2.87   \n",
      "47                                            AFMK     52450-38-1  0.48   \n",
      "48  N-[2-(5-Methyl-1H-indol-2-yl)-ethyl]-acetamide  Not available  2.14   \n",
      "49  N-[2-(5-Fluoro-1H-indol-2-yl)-ethyl]-acetamide  Not available  1.99   \n",
      "50  N-[2-(5-Chloro-1H-indol-2-yl)-ethyl]-acetamide  Not available  2.67   \n",
      "51                    5-Hydroxy-N-formylkynurenine  Not available -2.53   \n",
      "52                    6-methoxy-N-acetyltryptamine  Not available  1.28   \n",
      "\n",
      "                  Ref  logP,chemaxon   \n",
      "0       Avdeef (2003)           3.53  \\\n",
      "1       Avdeef (2003)           2.58   \n",
      "2       Avdeef (2003)           1.67   \n",
      "3       Avdeef (2003)           4.26   \n",
      "4       Avdeef (2003)           1.63   \n",
      "5       Avdeef (2003)           1.45   \n",
      "6       Avdeef (2003)          -0.81   \n",
      "7       Avdeef (2003)           1.75   \n",
      "8         Hansh (1995          -0.14   \n",
      "9     El Tater (1985)           2.90   \n",
      "10       Baena (2005)           1.21   \n",
      "11      Avdeef (2003)           1.98   \n",
      "12      Avdeef (2003)          -0.22   \n",
      "13       Iwasa (1965)           1.10   \n",
      "14      Pomana (1987)           1.67   \n",
      "15       Beana (2004)           0.91   \n",
      "16       Beana (2004)           1.41   \n",
      "17      Hansch (1995)           0.84   \n",
      "18      Hansch (1995)          -0.55   \n",
      "19      Avdeef (2003)           3.15   \n",
      "20      Avdeef (2003)           4.81   \n",
      "21      Avdeef (2003)           3.58   \n",
      "22  Narasimham (2011)           0.04   \n",
      "23      Avdeef (2003)           3.84   \n",
      "24      Hansch (1995)           1.93   \n",
      "25      Avdeef (2003)           3.65   \n",
      "26      Avdeef (2003)           3.93   \n",
      "27    Sangster (1989)           0.82   \n",
      "28    Sangster (1989)           2.67   \n",
      "29    Sangster (1989)           2.31   \n",
      "30      Hansch (1995)           0.48   \n",
      "31    Sangster (1989)           1.80   \n",
      "32    Sangster (1989)           2.30   \n",
      "33    Sangster (1989)           2.27   \n",
      "34    Sangster (1989)           2.59   \n",
      "35    Sangster (1989)           2.59   \n",
      "36    Sangster (1989)           2.50   \n",
      "37         Mor (2004)           1.15   \n",
      "38     Urakami (2003)          -1.09   \n",
      "39      Hansch (1995)           1.49   \n",
      "40         Mor (2003)           1.00   \n",
      "41         Mor (2004)           1.33   \n",
      "42                NaN           0.84   \n",
      "43      Hansch (1995)           1.10   \n",
      "44       Siren (2004)           1.41   \n",
      "45         Mor (2003)           1.31   \n",
      "46      Hansch (1995)           1.85   \n",
      "47      Harthe (2003)           0.34   \n",
      "48     Spadoni (2006)           1.35   \n",
      "49     Spadoni (2006)           1.29   \n",
      "50     Spadoni (2006)           1.75   \n",
      "51     Wishart (2007)          -2.19   \n",
      "52         Mor (2003)           1.15   \n",
      "\n",
      "                                          SMILES_ORIG  logP,CQ-RF  clogp   \n",
      "0   CC1=C(C2=C(N1C(=O)C3=CC=C(C=C3)Cl)C=CC(=C2)OC)...        4.24   3.93  \\\n",
      "1                    CC(C)NCC(COC1=CC=CC2=CC=CC=C21)O        2.80   2.58   \n",
      "2                                      C1=CC=C(C=C1)O        1.53   1.39   \n",
      "3            C1=CC=C(C(=C1)CC(=O)O)NC2=C(C=CC=C2Cl)Cl        4.60   4.36   \n",
      "4                                 C1=CC=C(C=C1)C(=O)O        1.87   1.38   \n",
      "5                              C1=CC=C(C(=C1)C(=O)O)N        1.41   0.97   \n",
      "6                         CN1C2=C(C(=O)N(C1=O)C)NC=N2       -0.16  -1.04   \n",
      "7      C1=COC(=C1)CNC2=CC(=C(C=C2C(=O)O)S(=O)(=O)N)Cl        2.26   1.89   \n",
      "8                                             CC(=S)N       -0.27   0.29   \n",
      "9   C1CN(CCC1N2C3=C(C=C(C=C3)Cl)NC2=O)CCCN4C5=CC=C...        3.37   3.35   \n",
      "10                                 CC(=O)NC1=CC=CC=C1        1.19   1.64   \n",
      "11                             C1=CC=C(C(=C1)C(=O)O)O        2.24   1.09   \n",
      "12                                            CC(=O)O       -0.21   0.09   \n",
      "13                                    C1=CC=C(C=C1)CN        1.07   1.15   \n",
      "14                              COC(=O)C1=CC=C(C=C1)O        1.94   1.18   \n",
      "15                              CC(=O)NC1=CC=C(C=C1)O        0.49   1.35   \n",
      "16                            CCOC1=CC=C(C=C1)NC(=O)C        1.56   2.04   \n",
      "17                                    C1=CC(=CC=C1N)O        0.16   0.97   \n",
      "18                       CN1C=NC2=C1C(=O)N(C(=O)N2C)C       -0.32  -1.03   \n",
      "19  C1C(=O)NC2=C(C=C(C=C2)[N+](=O)[O-])C(=N1)C3=CC...        2.41   3.04   \n",
      "20               CN(C)CCC=C1C2=CC=CC=C2CCC3=CC=CC=C31        4.87   4.17   \n",
      "21               CN(C)CCC(C1=CC=C(C=C1)Cl)C2=CC=CC=N2        3.54   3.82   \n",
      "22             C1(=C(N=C(C(=N1)Cl)N)N)C(=O)N=C(N)N.Cl        0.23  -1.29   \n",
      "23                      CC(C)CC1=CC=C(C=C1)C(C)C(=O)O        4.01   3.07   \n",
      "24          C1=CC=C(C=C1)C2(C(=O)NC(=O)N2)C3=CC=CC=C3        2.26   1.77   \n",
      "25                  CN(C)CCOC(C1=CC=CC=C1)C2=CC=CC=C2        3.28   3.35   \n",
      "26          CN(C)CCCN1C2=CC=CC=C2SC3=C1C=C(C=C3)Cl.Cl        5.22   4.89   \n",
      "27                                C1=CC=C(C=C1)C(=O)N        0.63   0.79   \n",
      "28                                           C1CCCCC1        3.39   2.34   \n",
      "29                                          C1CCC=CC1        2.87   2.12   \n",
      "30                       C1=CC2=C(C=C1O)C(=CN2)CCN.Cl        0.87   1.37   \n",
      "31                                C1=CC=C2C(=C1)C=CN2        1.97   2.17   \n",
      "32                                 CN1C=CC2=CC=CC=C21        2.64   2.18   \n",
      "33                                 CC1=CC2=CC=CC=C2N1        2.43   2.48   \n",
      "34                                 CC1=CNC2=CC=CC=C12        2.53   2.48   \n",
      "35                               CC1=CC2=C(C=C1)NC=C2        2.40   2.48   \n",
      "36                                CC1=CC2=CC=CC=C2N1C        2.84   2.49   \n",
      "37                     CC(=O)NCCC1=CNC2=C1C=C(C=C2)OC        1.27   1.86   \n",
      "38                   C1=CC=C2C(=C1)C(=CN2)CC(C(=O)O)N       -0.79   1.12   \n",
      "39                           C1=CC=C2C(=C1)C(=CN2)CCN        1.96   1.67   \n",
      "40                                 CC(=O)NC(CS)C(=O)O       -1.26  -0.49   \n",
      "41                           COC1=CC2=C(C=C1)NC=C2CCN        1.77   1.68   \n",
      "42                  CC(=O)NCCC1=CNC2=CC(=C(C=C21)OC)O        1.28   1.56   \n",
      "43                       C1=CC=C2C(=C1)C(=CN2)CC(=O)O        1.42   1.79   \n",
      "44                      C1=CC2=C(C=C1O)C(=CN2)CC(=O)O        0.98   1.50   \n",
      "45                         CC(=O)NCCC1=CNC2=CC=CC=C21        1.62   1.85   \n",
      "46                     CC1=NC=CC2=C1NC3=C2C=CC(=C3)OC        3.20   3.03   \n",
      "47                CC(=O)NCCC(=O)C1=C(C=CC(=C1)OC)NC=O        0.43   0.97   \n",
      "48                       CC(=O)NCCc1[nH]c2ccc(C)cc2c1        1.80   2.15   \n",
      "49                       CC(=O)NCCc1[nH]c2ccc(F)cc2c1        1.51   1.99   \n",
      "50                      CC(=O)NCCc1[nH]c2ccc(Cl)cc2c1        1.98   2.50   \n",
      "51                    NC(CC(=O)c1cc(O)ccc1NC=O)C(O)=O       -0.84  -0.05   \n",
      "52                      COc1ccc2c(CCNC(C)=O)c[nH]c2c1        1.76   1.86   \n",
      "\n",
      "    logP,CQ-GBM  \n",
      "0          4.30  \n",
      "1          2.59  \n",
      "2          1.49  \n",
      "3          4.54  \n",
      "4          1.90  \n",
      "5          1.31  \n",
      "6         -0.08  \n",
      "7          2.07  \n",
      "8         -0.26  \n",
      "9          3.86  \n",
      "10         1.28  \n",
      "11         2.29  \n",
      "12        -0.20  \n",
      "13         1.06  \n",
      "14         1.92  \n",
      "15         0.48  \n",
      "16         1.57  \n",
      "17         0.08  \n",
      "18        -0.13  \n",
      "19         2.46  \n",
      "20         4.90  \n",
      "21         3.43  \n",
      "22         0.52  \n",
      "23         3.99  \n",
      "24         2.44  \n",
      "25         3.23  \n",
      "26         5.38  \n",
      "27         0.65  \n",
      "28         3.42  \n",
      "29         2.88  \n",
      "30         0.94  \n",
      "31         2.11  \n",
      "32         2.72  \n",
      "33         2.39  \n",
      "34         2.62  \n",
      "35         2.46  \n",
      "36         2.87  \n",
      "37         1.33  \n",
      "38        -0.99  \n",
      "39         1.96  \n",
      "40        -1.26  \n",
      "41         1.67  \n",
      "42         1.25  \n",
      "43         1.43  \n",
      "44         0.89  \n",
      "45         1.69  \n",
      "46         3.42  \n",
      "47         0.41  \n",
      "48         1.80  \n",
      "49         1.69  \n",
      "50         2.03  \n",
      "51        -1.05  \n",
      "52         1.88  \n",
      "Molecule count: 53\n"
     ]
    },
    {
     "name": "stderr",
     "output_type": "stream",
     "text": [
      "Processing train dataset: 100%|██████████| 53/53 [00:00<00:00, 11285.31it/s]\n",
      "Done!\n",
      "100%|██████████| 53/53 [00:00<00:00, 965.91it/s]\n"
     ]
    },
    {
     "data": {
      "text/plain": [
       "<torch_geometric.loader.dataloader.DataLoader at 0x7f35aa7da6e0>"
      ]
     },
     "execution_count": 48,
     "metadata": {},
     "output_type": "execute_result"
    }
   ],
   "source": [
    "dataset = create_dataset()\n",
    "#dataset = SDF(\"./datasets/SAMPL6\",name = \"/NEWDATA/moldata/sampl6/sampl6.sdf\")\n",
    "#dataset = OPERA(\"./datasets/OPERA\",name=\"OPERA_LogP\")\n",
    "delattr(dataset.data, 'train_graph_index')\n",
    "delattr(dataset.data, 'val_graph_index')\n",
    "delattr(dataset.data, 'test_graph_index')\n",
    "loader = DataLoader(dataset, batch_size=32,\n",
    "                                  shuffle=False, num_workers=cfg.num_workers,\n",
    "                                  pin_memory=True)\n",
    "loader\n"
   ]
  },
  {
   "cell_type": "code",
   "execution_count": 49,
   "id": "2e5645bc",
   "metadata": {},
   "outputs": [
    {
     "data": {
      "text/plain": [
       "(GraphGymModule(\n",
       "   (model): GPSModel(\n",
       "     (encoder): FeatureEncoder(\n",
       "       (node_encoder): Concat2NodeEncoder(\n",
       "         (encoder1): TypeDictNodeEncoder(\n",
       "           (encoder): Embedding(28, 36)\n",
       "         )\n",
       "         (encoder2): RWSENodeEncoder(\n",
       "           (raw_norm): BatchNorm1d(20, eps=1e-05, momentum=0.1, affine=True, track_running_stats=True)\n",
       "           (pe_encoder): Linear(in_features=20, out_features=28, bias=True)\n",
       "         )\n",
       "       )\n",
       "       (edge_encoder): TypeDictEdgeEncoder(\n",
       "         (encoder): Embedding(4, 64)\n",
       "       )\n",
       "     )\n",
       "     (layers): Sequential(\n",
       "       (0): GPSLayer(\n",
       "         summary: dim_h=64, local_gnn_type=GINE, global_model_type=Transformer, heads=4\n",
       "         (local_model): GINEConv(nn=Sequential(\n",
       "           (0): Linear(64, 64, bias=True)\n",
       "           (1): ReLU()\n",
       "           (2): Linear(64, 64, bias=True)\n",
       "         ))\n",
       "         (self_attn): MultiheadAttention(\n",
       "           (out_proj): NonDynamicallyQuantizableLinear(in_features=64, out_features=64, bias=True)\n",
       "         )\n",
       "         (norm1_local): BatchNorm1d(64, eps=1e-05, momentum=0.1, affine=True, track_running_stats=True)\n",
       "         (norm1_attn): BatchNorm1d(64, eps=1e-05, momentum=0.1, affine=True, track_running_stats=True)\n",
       "         (dropout_local): Dropout(p=0.0, inplace=False)\n",
       "         (dropout_attn): Dropout(p=0.0, inplace=False)\n",
       "         (ff_linear1): Linear(in_features=64, out_features=128, bias=True)\n",
       "         (ff_linear2): Linear(in_features=128, out_features=64, bias=True)\n",
       "         (act_fn_ff): ReLU()\n",
       "         (norm2): BatchNorm1d(64, eps=1e-05, momentum=0.1, affine=True, track_running_stats=True)\n",
       "         (ff_dropout1): Dropout(p=0.0, inplace=False)\n",
       "         (ff_dropout2): Dropout(p=0.0, inplace=False)\n",
       "       )\n",
       "       (1): GPSLayer(\n",
       "         summary: dim_h=64, local_gnn_type=GINE, global_model_type=Transformer, heads=4\n",
       "         (local_model): GINEConv(nn=Sequential(\n",
       "           (0): Linear(64, 64, bias=True)\n",
       "           (1): ReLU()\n",
       "           (2): Linear(64, 64, bias=True)\n",
       "         ))\n",
       "         (self_attn): MultiheadAttention(\n",
       "           (out_proj): NonDynamicallyQuantizableLinear(in_features=64, out_features=64, bias=True)\n",
       "         )\n",
       "         (norm1_local): BatchNorm1d(64, eps=1e-05, momentum=0.1, affine=True, track_running_stats=True)\n",
       "         (norm1_attn): BatchNorm1d(64, eps=1e-05, momentum=0.1, affine=True, track_running_stats=True)\n",
       "         (dropout_local): Dropout(p=0.0, inplace=False)\n",
       "         (dropout_attn): Dropout(p=0.0, inplace=False)\n",
       "         (ff_linear1): Linear(in_features=64, out_features=128, bias=True)\n",
       "         (ff_linear2): Linear(in_features=128, out_features=64, bias=True)\n",
       "         (act_fn_ff): ReLU()\n",
       "         (norm2): BatchNorm1d(64, eps=1e-05, momentum=0.1, affine=True, track_running_stats=True)\n",
       "         (ff_dropout1): Dropout(p=0.0, inplace=False)\n",
       "         (ff_dropout2): Dropout(p=0.0, inplace=False)\n",
       "       )\n",
       "       (2): GPSLayer(\n",
       "         summary: dim_h=64, local_gnn_type=GINE, global_model_type=Transformer, heads=4\n",
       "         (local_model): GINEConv(nn=Sequential(\n",
       "           (0): Linear(64, 64, bias=True)\n",
       "           (1): ReLU()\n",
       "           (2): Linear(64, 64, bias=True)\n",
       "         ))\n",
       "         (self_attn): MultiheadAttention(\n",
       "           (out_proj): NonDynamicallyQuantizableLinear(in_features=64, out_features=64, bias=True)\n",
       "         )\n",
       "         (norm1_local): BatchNorm1d(64, eps=1e-05, momentum=0.1, affine=True, track_running_stats=True)\n",
       "         (norm1_attn): BatchNorm1d(64, eps=1e-05, momentum=0.1, affine=True, track_running_stats=True)\n",
       "         (dropout_local): Dropout(p=0.0, inplace=False)\n",
       "         (dropout_attn): Dropout(p=0.0, inplace=False)\n",
       "         (ff_linear1): Linear(in_features=64, out_features=128, bias=True)\n",
       "         (ff_linear2): Linear(in_features=128, out_features=64, bias=True)\n",
       "         (act_fn_ff): ReLU()\n",
       "         (norm2): BatchNorm1d(64, eps=1e-05, momentum=0.1, affine=True, track_running_stats=True)\n",
       "         (ff_dropout1): Dropout(p=0.0, inplace=False)\n",
       "         (ff_dropout2): Dropout(p=0.0, inplace=False)\n",
       "       )\n",
       "       (3): GPSLayer(\n",
       "         summary: dim_h=64, local_gnn_type=GINE, global_model_type=Transformer, heads=4\n",
       "         (local_model): GINEConv(nn=Sequential(\n",
       "           (0): Linear(64, 64, bias=True)\n",
       "           (1): ReLU()\n",
       "           (2): Linear(64, 64, bias=True)\n",
       "         ))\n",
       "         (self_attn): MultiheadAttention(\n",
       "           (out_proj): NonDynamicallyQuantizableLinear(in_features=64, out_features=64, bias=True)\n",
       "         )\n",
       "         (norm1_local): BatchNorm1d(64, eps=1e-05, momentum=0.1, affine=True, track_running_stats=True)\n",
       "         (norm1_attn): BatchNorm1d(64, eps=1e-05, momentum=0.1, affine=True, track_running_stats=True)\n",
       "         (dropout_local): Dropout(p=0.0, inplace=False)\n",
       "         (dropout_attn): Dropout(p=0.0, inplace=False)\n",
       "         (ff_linear1): Linear(in_features=64, out_features=128, bias=True)\n",
       "         (ff_linear2): Linear(in_features=128, out_features=64, bias=True)\n",
       "         (act_fn_ff): ReLU()\n",
       "         (norm2): BatchNorm1d(64, eps=1e-05, momentum=0.1, affine=True, track_running_stats=True)\n",
       "         (ff_dropout1): Dropout(p=0.0, inplace=False)\n",
       "         (ff_dropout2): Dropout(p=0.0, inplace=False)\n",
       "       )\n",
       "       (4): GPSLayer(\n",
       "         summary: dim_h=64, local_gnn_type=GINE, global_model_type=Transformer, heads=4\n",
       "         (local_model): GINEConv(nn=Sequential(\n",
       "           (0): Linear(64, 64, bias=True)\n",
       "           (1): ReLU()\n",
       "           (2): Linear(64, 64, bias=True)\n",
       "         ))\n",
       "         (self_attn): MultiheadAttention(\n",
       "           (out_proj): NonDynamicallyQuantizableLinear(in_features=64, out_features=64, bias=True)\n",
       "         )\n",
       "         (norm1_local): BatchNorm1d(64, eps=1e-05, momentum=0.1, affine=True, track_running_stats=True)\n",
       "         (norm1_attn): BatchNorm1d(64, eps=1e-05, momentum=0.1, affine=True, track_running_stats=True)\n",
       "         (dropout_local): Dropout(p=0.0, inplace=False)\n",
       "         (dropout_attn): Dropout(p=0.0, inplace=False)\n",
       "         (ff_linear1): Linear(in_features=64, out_features=128, bias=True)\n",
       "         (ff_linear2): Linear(in_features=128, out_features=64, bias=True)\n",
       "         (act_fn_ff): ReLU()\n",
       "         (norm2): BatchNorm1d(64, eps=1e-05, momentum=0.1, affine=True, track_running_stats=True)\n",
       "         (ff_dropout1): Dropout(p=0.0, inplace=False)\n",
       "         (ff_dropout2): Dropout(p=0.0, inplace=False)\n",
       "       )\n",
       "       (5): GPSLayer(\n",
       "         summary: dim_h=64, local_gnn_type=GINE, global_model_type=Transformer, heads=4\n",
       "         (local_model): GINEConv(nn=Sequential(\n",
       "           (0): Linear(64, 64, bias=True)\n",
       "           (1): ReLU()\n",
       "           (2): Linear(64, 64, bias=True)\n",
       "         ))\n",
       "         (self_attn): MultiheadAttention(\n",
       "           (out_proj): NonDynamicallyQuantizableLinear(in_features=64, out_features=64, bias=True)\n",
       "         )\n",
       "         (norm1_local): BatchNorm1d(64, eps=1e-05, momentum=0.1, affine=True, track_running_stats=True)\n",
       "         (norm1_attn): BatchNorm1d(64, eps=1e-05, momentum=0.1, affine=True, track_running_stats=True)\n",
       "         (dropout_local): Dropout(p=0.0, inplace=False)\n",
       "         (dropout_attn): Dropout(p=0.0, inplace=False)\n",
       "         (ff_linear1): Linear(in_features=64, out_features=128, bias=True)\n",
       "         (ff_linear2): Linear(in_features=128, out_features=64, bias=True)\n",
       "         (act_fn_ff): ReLU()\n",
       "         (norm2): BatchNorm1d(64, eps=1e-05, momentum=0.1, affine=True, track_running_stats=True)\n",
       "         (ff_dropout1): Dropout(p=0.0, inplace=False)\n",
       "         (ff_dropout2): Dropout(p=0.0, inplace=False)\n",
       "       )\n",
       "       (6): GPSLayer(\n",
       "         summary: dim_h=64, local_gnn_type=GINE, global_model_type=Transformer, heads=4\n",
       "         (local_model): GINEConv(nn=Sequential(\n",
       "           (0): Linear(64, 64, bias=True)\n",
       "           (1): ReLU()\n",
       "           (2): Linear(64, 64, bias=True)\n",
       "         ))\n",
       "         (self_attn): MultiheadAttention(\n",
       "           (out_proj): NonDynamicallyQuantizableLinear(in_features=64, out_features=64, bias=True)\n",
       "         )\n",
       "         (norm1_local): BatchNorm1d(64, eps=1e-05, momentum=0.1, affine=True, track_running_stats=True)\n",
       "         (norm1_attn): BatchNorm1d(64, eps=1e-05, momentum=0.1, affine=True, track_running_stats=True)\n",
       "         (dropout_local): Dropout(p=0.0, inplace=False)\n",
       "         (dropout_attn): Dropout(p=0.0, inplace=False)\n",
       "         (ff_linear1): Linear(in_features=64, out_features=128, bias=True)\n",
       "         (ff_linear2): Linear(in_features=128, out_features=64, bias=True)\n",
       "         (act_fn_ff): ReLU()\n",
       "         (norm2): BatchNorm1d(64, eps=1e-05, momentum=0.1, affine=True, track_running_stats=True)\n",
       "         (ff_dropout1): Dropout(p=0.0, inplace=False)\n",
       "         (ff_dropout2): Dropout(p=0.0, inplace=False)\n",
       "       )\n",
       "       (7): GPSLayer(\n",
       "         summary: dim_h=64, local_gnn_type=GINE, global_model_type=Transformer, heads=4\n",
       "         (local_model): GINEConv(nn=Sequential(\n",
       "           (0): Linear(64, 64, bias=True)\n",
       "           (1): ReLU()\n",
       "           (2): Linear(64, 64, bias=True)\n",
       "         ))\n",
       "         (self_attn): MultiheadAttention(\n",
       "           (out_proj): NonDynamicallyQuantizableLinear(in_features=64, out_features=64, bias=True)\n",
       "         )\n",
       "         (norm1_local): BatchNorm1d(64, eps=1e-05, momentum=0.1, affine=True, track_running_stats=True)\n",
       "         (norm1_attn): BatchNorm1d(64, eps=1e-05, momentum=0.1, affine=True, track_running_stats=True)\n",
       "         (dropout_local): Dropout(p=0.0, inplace=False)\n",
       "         (dropout_attn): Dropout(p=0.0, inplace=False)\n",
       "         (ff_linear1): Linear(in_features=64, out_features=128, bias=True)\n",
       "         (ff_linear2): Linear(in_features=128, out_features=64, bias=True)\n",
       "         (act_fn_ff): ReLU()\n",
       "         (norm2): BatchNorm1d(64, eps=1e-05, momentum=0.1, affine=True, track_running_stats=True)\n",
       "         (ff_dropout1): Dropout(p=0.0, inplace=False)\n",
       "         (ff_dropout2): Dropout(p=0.0, inplace=False)\n",
       "       )\n",
       "       (8): GPSLayer(\n",
       "         summary: dim_h=64, local_gnn_type=GINE, global_model_type=Transformer, heads=4\n",
       "         (local_model): GINEConv(nn=Sequential(\n",
       "           (0): Linear(64, 64, bias=True)\n",
       "           (1): ReLU()\n",
       "           (2): Linear(64, 64, bias=True)\n",
       "         ))\n",
       "         (self_attn): MultiheadAttention(\n",
       "           (out_proj): NonDynamicallyQuantizableLinear(in_features=64, out_features=64, bias=True)\n",
       "         )\n",
       "         (norm1_local): BatchNorm1d(64, eps=1e-05, momentum=0.1, affine=True, track_running_stats=True)\n",
       "         (norm1_attn): BatchNorm1d(64, eps=1e-05, momentum=0.1, affine=True, track_running_stats=True)\n",
       "         (dropout_local): Dropout(p=0.0, inplace=False)\n",
       "         (dropout_attn): Dropout(p=0.0, inplace=False)\n",
       "         (ff_linear1): Linear(in_features=64, out_features=128, bias=True)\n",
       "         (ff_linear2): Linear(in_features=128, out_features=64, bias=True)\n",
       "         (act_fn_ff): ReLU()\n",
       "         (norm2): BatchNorm1d(64, eps=1e-05, momentum=0.1, affine=True, track_running_stats=True)\n",
       "         (ff_dropout1): Dropout(p=0.0, inplace=False)\n",
       "         (ff_dropout2): Dropout(p=0.0, inplace=False)\n",
       "       )\n",
       "       (9): GPSLayer(\n",
       "         summary: dim_h=64, local_gnn_type=GINE, global_model_type=Transformer, heads=4\n",
       "         (local_model): GINEConv(nn=Sequential(\n",
       "           (0): Linear(64, 64, bias=True)\n",
       "           (1): ReLU()\n",
       "           (2): Linear(64, 64, bias=True)\n",
       "         ))\n",
       "         (self_attn): MultiheadAttention(\n",
       "           (out_proj): NonDynamicallyQuantizableLinear(in_features=64, out_features=64, bias=True)\n",
       "         )\n",
       "         (norm1_local): BatchNorm1d(64, eps=1e-05, momentum=0.1, affine=True, track_running_stats=True)\n",
       "         (norm1_attn): BatchNorm1d(64, eps=1e-05, momentum=0.1, affine=True, track_running_stats=True)\n",
       "         (dropout_local): Dropout(p=0.0, inplace=False)\n",
       "         (dropout_attn): Dropout(p=0.0, inplace=False)\n",
       "         (ff_linear1): Linear(in_features=64, out_features=128, bias=True)\n",
       "         (ff_linear2): Linear(in_features=128, out_features=64, bias=True)\n",
       "         (act_fn_ff): ReLU()\n",
       "         (norm2): BatchNorm1d(64, eps=1e-05, momentum=0.1, affine=True, track_running_stats=True)\n",
       "         (ff_dropout1): Dropout(p=0.0, inplace=False)\n",
       "         (ff_dropout2): Dropout(p=0.0, inplace=False)\n",
       "       )\n",
       "     )\n",
       "     (post_mp): SANGraphHead(\n",
       "       (FC_layers): ModuleList(\n",
       "         (0): Linear(in_features=64, out_features=32, bias=True)\n",
       "         (1): Linear(in_features=32, out_features=16, bias=True)\n",
       "         (2): Linear(in_features=16, out_features=1, bias=True)\n",
       "       )\n",
       "       (activation): ReLU()\n",
       "     )\n",
       "   )\n",
       " ),\n",
       " False)"
      ]
     },
     "execution_count": 49,
     "metadata": {},
     "output_type": "execute_result"
    }
   ],
   "source": [
    "auto_select_device()\n",
    "model = create_model()\n",
    "model = init_model_from_pretrained(\n",
    "                model, cfg.pretrained.dir, cfg.pretrained.freeze_main,\n",
    "                cfg.pretrained.reset_prediction_head, seed=cfg.seed\n",
    "            )\n",
    "model.eval()\n",
    "model,cfg.pretrained.reset_prediction_head"
   ]
  },
  {
   "cell_type": "code",
   "execution_count": 50,
   "id": "c5343be7",
   "metadata": {},
   "outputs": [
    {
     "data": {
      "text/html": [
       "<div>\n",
       "<style scoped>\n",
       "    .dataframe tbody tr th:only-of-type {\n",
       "        vertical-align: middle;\n",
       "    }\n",
       "\n",
       "    .dataframe tbody tr th {\n",
       "        vertical-align: top;\n",
       "    }\n",
       "\n",
       "    .dataframe thead th {\n",
       "        text-align: right;\n",
       "    }\n",
       "</style>\n",
       "<table border=\"1\" class=\"dataframe\">\n",
       "  <thead>\n",
       "    <tr style=\"text-align: right;\">\n",
       "      <th></th>\n",
       "      <th>y_pred</th>\n",
       "      <th>y</th>\n",
       "    </tr>\n",
       "  </thead>\n",
       "  <tbody>\n",
       "    <tr>\n",
       "      <th>0</th>\n",
       "      <td>3.797744</td>\n",
       "      <td>3.52</td>\n",
       "    </tr>\n",
       "    <tr>\n",
       "      <th>1</th>\n",
       "      <td>3.008636</td>\n",
       "      <td>3.48</td>\n",
       "    </tr>\n",
       "    <tr>\n",
       "      <th>2</th>\n",
       "      <td>1.442594</td>\n",
       "      <td>1.48</td>\n",
       "    </tr>\n",
       "    <tr>\n",
       "      <th>3</th>\n",
       "      <td>4.302980</td>\n",
       "      <td>4.51</td>\n",
       "    </tr>\n",
       "    <tr>\n",
       "      <th>4</th>\n",
       "      <td>1.927755</td>\n",
       "      <td>1.96</td>\n",
       "    </tr>\n",
       "    <tr>\n",
       "      <th>5</th>\n",
       "      <td>1.217670</td>\n",
       "      <td>1.26</td>\n",
       "    </tr>\n",
       "    <tr>\n",
       "      <th>6</th>\n",
       "      <td>-0.133645</td>\n",
       "      <td>0.00</td>\n",
       "    </tr>\n",
       "    <tr>\n",
       "      <th>7</th>\n",
       "      <td>1.263541</td>\n",
       "      <td>2.56</td>\n",
       "    </tr>\n",
       "    <tr>\n",
       "      <th>8</th>\n",
       "      <td>-0.084778</td>\n",
       "      <td>-0.26</td>\n",
       "    </tr>\n",
       "    <tr>\n",
       "      <th>9</th>\n",
       "      <td>3.466144</td>\n",
       "      <td>3.90</td>\n",
       "    </tr>\n",
       "    <tr>\n",
       "      <th>10</th>\n",
       "      <td>1.127878</td>\n",
       "      <td>1.13</td>\n",
       "    </tr>\n",
       "    <tr>\n",
       "      <th>11</th>\n",
       "      <td>2.146603</td>\n",
       "      <td>2.19</td>\n",
       "    </tr>\n",
       "    <tr>\n",
       "      <th>12</th>\n",
       "      <td>-0.440473</td>\n",
       "      <td>-0.30</td>\n",
       "    </tr>\n",
       "    <tr>\n",
       "      <th>13</th>\n",
       "      <td>1.100729</td>\n",
       "      <td>1.09</td>\n",
       "    </tr>\n",
       "    <tr>\n",
       "      <th>14</th>\n",
       "      <td>2.118457</td>\n",
       "      <td>1.96</td>\n",
       "    </tr>\n",
       "    <tr>\n",
       "      <th>15</th>\n",
       "      <td>0.369028</td>\n",
       "      <td>0.44</td>\n",
       "    </tr>\n",
       "    <tr>\n",
       "      <th>16</th>\n",
       "      <td>1.521973</td>\n",
       "      <td>1.48</td>\n",
       "    </tr>\n",
       "    <tr>\n",
       "      <th>17</th>\n",
       "      <td>0.005895</td>\n",
       "      <td>0.04</td>\n",
       "    </tr>\n",
       "    <tr>\n",
       "      <th>18</th>\n",
       "      <td>0.121272</td>\n",
       "      <td>-0.07</td>\n",
       "    </tr>\n",
       "    <tr>\n",
       "      <th>19</th>\n",
       "      <td>2.557695</td>\n",
       "      <td>3.02</td>\n",
       "    </tr>\n",
       "    <tr>\n",
       "      <th>20</th>\n",
       "      <td>4.947875</td>\n",
       "      <td>4.62</td>\n",
       "    </tr>\n",
       "    <tr>\n",
       "      <th>21</th>\n",
       "      <td>3.759749</td>\n",
       "      <td>3.39</td>\n",
       "    </tr>\n",
       "    <tr>\n",
       "      <th>22</th>\n",
       "      <td>-0.916242</td>\n",
       "      <td>-0.30</td>\n",
       "    </tr>\n",
       "    <tr>\n",
       "      <th>23</th>\n",
       "      <td>3.857369</td>\n",
       "      <td>4.13</td>\n",
       "    </tr>\n",
       "    <tr>\n",
       "      <th>24</th>\n",
       "      <td>2.045547</td>\n",
       "      <td>2.47</td>\n",
       "    </tr>\n",
       "    <tr>\n",
       "      <th>25</th>\n",
       "      <td>3.234694</td>\n",
       "      <td>3.18</td>\n",
       "    </tr>\n",
       "    <tr>\n",
       "      <th>26</th>\n",
       "      <td>5.029820</td>\n",
       "      <td>5.40</td>\n",
       "    </tr>\n",
       "    <tr>\n",
       "      <th>27</th>\n",
       "      <td>0.672740</td>\n",
       "      <td>0.64</td>\n",
       "    </tr>\n",
       "    <tr>\n",
       "      <th>28</th>\n",
       "      <td>3.436891</td>\n",
       "      <td>3.44</td>\n",
       "    </tr>\n",
       "    <tr>\n",
       "      <th>29</th>\n",
       "      <td>3.023263</td>\n",
       "      <td>2.86</td>\n",
       "    </tr>\n",
       "    <tr>\n",
       "      <th>30</th>\n",
       "      <td>0.418767</td>\n",
       "      <td>0.21</td>\n",
       "    </tr>\n",
       "    <tr>\n",
       "      <th>31</th>\n",
       "      <td>2.115252</td>\n",
       "      <td>2.14</td>\n",
       "    </tr>\n",
       "    <tr>\n",
       "      <th>32</th>\n",
       "      <td>2.751676</td>\n",
       "      <td>2.71</td>\n",
       "    </tr>\n",
       "    <tr>\n",
       "      <th>33</th>\n",
       "      <td>2.476519</td>\n",
       "      <td>2.53</td>\n",
       "    </tr>\n",
       "    <tr>\n",
       "      <th>34</th>\n",
       "      <td>2.626549</td>\n",
       "      <td>2.63</td>\n",
       "    </tr>\n",
       "    <tr>\n",
       "      <th>35</th>\n",
       "      <td>2.576019</td>\n",
       "      <td>2.68</td>\n",
       "    </tr>\n",
       "    <tr>\n",
       "      <th>36</th>\n",
       "      <td>2.966429</td>\n",
       "      <td>2.82</td>\n",
       "    </tr>\n",
       "    <tr>\n",
       "      <th>37</th>\n",
       "      <td>1.067582</td>\n",
       "      <td>1.20</td>\n",
       "    </tr>\n",
       "    <tr>\n",
       "      <th>38</th>\n",
       "      <td>-1.205671</td>\n",
       "      <td>-1.06</td>\n",
       "    </tr>\n",
       "    <tr>\n",
       "      <th>39</th>\n",
       "      <td>1.339922</td>\n",
       "      <td>1.41</td>\n",
       "    </tr>\n",
       "    <tr>\n",
       "      <th>40</th>\n",
       "      <td>-0.065169</td>\n",
       "      <td>0.44</td>\n",
       "    </tr>\n",
       "    <tr>\n",
       "      <th>41</th>\n",
       "      <td>1.191796</td>\n",
       "      <td>1.34</td>\n",
       "    </tr>\n",
       "    <tr>\n",
       "      <th>42</th>\n",
       "      <td>0.494681</td>\n",
       "      <td>1.82</td>\n",
       "    </tr>\n",
       "    <tr>\n",
       "      <th>43</th>\n",
       "      <td>1.600501</td>\n",
       "      <td>1.71</td>\n",
       "    </tr>\n",
       "    <tr>\n",
       "      <th>44</th>\n",
       "      <td>0.755530</td>\n",
       "      <td>2.10</td>\n",
       "    </tr>\n",
       "    <tr>\n",
       "      <th>45</th>\n",
       "      <td>1.151249</td>\n",
       "      <td>1.34</td>\n",
       "    </tr>\n",
       "    <tr>\n",
       "      <th>46</th>\n",
       "      <td>2.988952</td>\n",
       "      <td>2.87</td>\n",
       "    </tr>\n",
       "    <tr>\n",
       "      <th>47</th>\n",
       "      <td>-0.123036</td>\n",
       "      <td>0.48</td>\n",
       "    </tr>\n",
       "    <tr>\n",
       "      <th>48</th>\n",
       "      <td>2.043620</td>\n",
       "      <td>2.14</td>\n",
       "    </tr>\n",
       "    <tr>\n",
       "      <th>49</th>\n",
       "      <td>1.913666</td>\n",
       "      <td>1.99</td>\n",
       "    </tr>\n",
       "    <tr>\n",
       "      <th>50</th>\n",
       "      <td>2.590760</td>\n",
       "      <td>2.67</td>\n",
       "    </tr>\n",
       "    <tr>\n",
       "      <th>51</th>\n",
       "      <td>-2.803612</td>\n",
       "      <td>-2.53</td>\n",
       "    </tr>\n",
       "    <tr>\n",
       "      <th>52</th>\n",
       "      <td>1.139973</td>\n",
       "      <td>1.28</td>\n",
       "    </tr>\n",
       "  </tbody>\n",
       "</table>\n",
       "</div>"
      ],
      "text/plain": [
       "      y_pred     y\n",
       "0   3.797744  3.52\n",
       "1   3.008636  3.48\n",
       "2   1.442594  1.48\n",
       "3   4.302980  4.51\n",
       "4   1.927755  1.96\n",
       "5   1.217670  1.26\n",
       "6  -0.133645  0.00\n",
       "7   1.263541  2.56\n",
       "8  -0.084778 -0.26\n",
       "9   3.466144  3.90\n",
       "10  1.127878  1.13\n",
       "11  2.146603  2.19\n",
       "12 -0.440473 -0.30\n",
       "13  1.100729  1.09\n",
       "14  2.118457  1.96\n",
       "15  0.369028  0.44\n",
       "16  1.521973  1.48\n",
       "17  0.005895  0.04\n",
       "18  0.121272 -0.07\n",
       "19  2.557695  3.02\n",
       "20  4.947875  4.62\n",
       "21  3.759749  3.39\n",
       "22 -0.916242 -0.30\n",
       "23  3.857369  4.13\n",
       "24  2.045547  2.47\n",
       "25  3.234694  3.18\n",
       "26  5.029820  5.40\n",
       "27  0.672740  0.64\n",
       "28  3.436891  3.44\n",
       "29  3.023263  2.86\n",
       "30  0.418767  0.21\n",
       "31  2.115252  2.14\n",
       "32  2.751676  2.71\n",
       "33  2.476519  2.53\n",
       "34  2.626549  2.63\n",
       "35  2.576019  2.68\n",
       "36  2.966429  2.82\n",
       "37  1.067582  1.20\n",
       "38 -1.205671 -1.06\n",
       "39  1.339922  1.41\n",
       "40 -0.065169  0.44\n",
       "41  1.191796  1.34\n",
       "42  0.494681  1.82\n",
       "43  1.600501  1.71\n",
       "44  0.755530  2.10\n",
       "45  1.151249  1.34\n",
       "46  2.988952  2.87\n",
       "47 -0.123036  0.48\n",
       "48  2.043620  2.14\n",
       "49  1.913666  1.99\n",
       "50  2.590760  2.67\n",
       "51 -2.803612 -2.53\n",
       "52  1.139973  1.28"
      ]
     },
     "execution_count": 50,
     "metadata": {},
     "output_type": "execute_result"
    }
   ],
   "source": [
    "@torch.no_grad()\n",
    "def predict(model,loader):\n",
    "    predictions = []\n",
    "    targets = []\n",
    "    for batch in loader:\n",
    "        batch.to(torch.device(cfg.accelerator))\n",
    "        \n",
    "        if cfg.gnn.head == 'inductive_edge':\n",
    "            pred, true, extra_stats = model(batch)\n",
    "        else:\n",
    "            pred, true = model(batch)\n",
    "            extra_stats = {}\n",
    "        predictions.append(pred.detach().to('cpu', non_blocking=True))\n",
    "        targets.append(true.detach().to('cpu', non_blocking=True))\n",
    "            \n",
    "    predictions = torch.cat(predictions,dim=0).numpy().flatten()\n",
    "    targets = torch.cat(targets,dim=0).numpy().flatten()\n",
    "    df_pred = pd.DataFrame({'y_pred':predictions,'y':targets})\n",
    "    return df_pred\n",
    "\n",
    "df_pred = predict(model,loader)\n",
    "df_pred\n"
   ]
  },
  {
   "cell_type": "code",
   "execution_count": 51,
   "id": "2f087546",
   "metadata": {},
   "outputs": [
    {
     "name": "stdout",
     "output_type": "stream",
     "text": [
      "Mean Absolute Error (MAE): 0.24 (RMSE): 0.39 R: 0.95 N:53\n"
     ]
    },
    {
     "data": {
      "application/vnd.plotly.v1+json": {
       "config": {
        "plotlyServerURL": "https://plot.ly"
       },
       "data": [
        {
         "hovertemplate": "x=%{x}<br>y=%{y}<extra></extra>",
         "legendgroup": "",
         "marker": {
          "color": "#636efa",
          "symbol": "circle"
         },
         "mode": "markers",
         "name": "",
         "orientation": "v",
         "showlegend": false,
         "type": "scatter",
         "x": [
          3.797743797302246,
          3.0086357593536377,
          1.4425944089889526,
          4.302979946136475,
          1.927754521369934,
          1.2176704406738281,
          -0.13364458084106445,
          1.2635406255722046,
          -0.08477821946144104,
          3.466143846511841,
          1.1278780698776245,
          2.1466026306152344,
          -0.4404727518558502,
          1.1007287502288818,
          2.118457078933716,
          0.3690282702445984,
          1.52197265625,
          0.005895078182220459,
          0.12127156555652618,
          2.557695150375366,
          4.947875022888184,
          3.759749174118042,
          -0.916242241859436,
          3.8573687076568604,
          2.0455472469329834,
          3.2346935272216797,
          5.029819965362549,
          0.6727400422096252,
          3.4368906021118164,
          3.0232627391815186,
          0.41876721382141113,
          2.1152515411376953,
          2.751676082611084,
          2.4765193462371826,
          2.6265487670898438,
          2.576019048690796,
          2.9664289951324463,
          1.067582130432129,
          -1.2056713104248047,
          1.3399220705032349,
          -0.06516879796981812,
          1.1917959451675415,
          0.4946805536746979,
          1.6005010604858398,
          0.7555296421051025,
          1.1512491703033447,
          2.9889519214630127,
          -0.12303552031517029,
          2.0436201095581055,
          1.9136656522750854,
          2.590759754180908,
          -2.803611993789673,
          1.1399731636047363
         ],
         "xaxis": "x",
         "y": [
          3.5199999809265137,
          3.4800000190734863,
          1.4800000190734863,
          4.510000228881836,
          1.9600000381469727,
          1.2599999904632568,
          0,
          2.559999942779541,
          -0.25999999046325684,
          3.9000000953674316,
          1.1299999952316284,
          2.190000057220459,
          -0.30000001192092896,
          1.090000033378601,
          1.9600000381469727,
          0.4399999976158142,
          1.4800000190734863,
          0.03999999910593033,
          -0.07000000029802322,
          3.0199999809265137,
          4.619999885559082,
          3.390000104904175,
          -0.30000001192092896,
          4.130000114440918,
          2.4700000286102295,
          3.180000066757202,
          5.400000095367432,
          0.6399999856948853,
          3.440000057220459,
          2.859999895095825,
          0.20999999344348907,
          2.140000104904175,
          2.7100000381469727,
          2.5299999713897705,
          2.630000114440918,
          2.680000066757202,
          2.819999933242798,
          1.2000000476837158,
          -1.059999942779541,
          1.409999966621399,
          0.4399999976158142,
          1.340000033378601,
          1.8200000524520874,
          1.7100000381469727,
          2.0999999046325684,
          1.340000033378601,
          2.869999885559082,
          0.47999998927116394,
          2.140000104904175,
          1.9900000095367432,
          2.6700000762939453,
          -2.5299999713897705,
          1.2799999713897705
         ],
         "yaxis": "y"
        }
       ],
       "layout": {
        "legend": {
         "tracegroupgap": 0
        },
        "margin": {
         "t": 60
        },
        "template": {
         "data": {
          "bar": [
           {
            "error_x": {
             "color": "#2a3f5f"
            },
            "error_y": {
             "color": "#2a3f5f"
            },
            "marker": {
             "line": {
              "color": "#E5ECF6",
              "width": 0.5
             },
             "pattern": {
              "fillmode": "overlay",
              "size": 10,
              "solidity": 0.2
             }
            },
            "type": "bar"
           }
          ],
          "barpolar": [
           {
            "marker": {
             "line": {
              "color": "#E5ECF6",
              "width": 0.5
             },
             "pattern": {
              "fillmode": "overlay",
              "size": 10,
              "solidity": 0.2
             }
            },
            "type": "barpolar"
           }
          ],
          "carpet": [
           {
            "aaxis": {
             "endlinecolor": "#2a3f5f",
             "gridcolor": "white",
             "linecolor": "white",
             "minorgridcolor": "white",
             "startlinecolor": "#2a3f5f"
            },
            "baxis": {
             "endlinecolor": "#2a3f5f",
             "gridcolor": "white",
             "linecolor": "white",
             "minorgridcolor": "white",
             "startlinecolor": "#2a3f5f"
            },
            "type": "carpet"
           }
          ],
          "choropleth": [
           {
            "colorbar": {
             "outlinewidth": 0,
             "ticks": ""
            },
            "type": "choropleth"
           }
          ],
          "contour": [
           {
            "colorbar": {
             "outlinewidth": 0,
             "ticks": ""
            },
            "colorscale": [
             [
              0,
              "#0d0887"
             ],
             [
              0.1111111111111111,
              "#46039f"
             ],
             [
              0.2222222222222222,
              "#7201a8"
             ],
             [
              0.3333333333333333,
              "#9c179e"
             ],
             [
              0.4444444444444444,
              "#bd3786"
             ],
             [
              0.5555555555555556,
              "#d8576b"
             ],
             [
              0.6666666666666666,
              "#ed7953"
             ],
             [
              0.7777777777777778,
              "#fb9f3a"
             ],
             [
              0.8888888888888888,
              "#fdca26"
             ],
             [
              1,
              "#f0f921"
             ]
            ],
            "type": "contour"
           }
          ],
          "contourcarpet": [
           {
            "colorbar": {
             "outlinewidth": 0,
             "ticks": ""
            },
            "type": "contourcarpet"
           }
          ],
          "heatmap": [
           {
            "colorbar": {
             "outlinewidth": 0,
             "ticks": ""
            },
            "colorscale": [
             [
              0,
              "#0d0887"
             ],
             [
              0.1111111111111111,
              "#46039f"
             ],
             [
              0.2222222222222222,
              "#7201a8"
             ],
             [
              0.3333333333333333,
              "#9c179e"
             ],
             [
              0.4444444444444444,
              "#bd3786"
             ],
             [
              0.5555555555555556,
              "#d8576b"
             ],
             [
              0.6666666666666666,
              "#ed7953"
             ],
             [
              0.7777777777777778,
              "#fb9f3a"
             ],
             [
              0.8888888888888888,
              "#fdca26"
             ],
             [
              1,
              "#f0f921"
             ]
            ],
            "type": "heatmap"
           }
          ],
          "heatmapgl": [
           {
            "colorbar": {
             "outlinewidth": 0,
             "ticks": ""
            },
            "colorscale": [
             [
              0,
              "#0d0887"
             ],
             [
              0.1111111111111111,
              "#46039f"
             ],
             [
              0.2222222222222222,
              "#7201a8"
             ],
             [
              0.3333333333333333,
              "#9c179e"
             ],
             [
              0.4444444444444444,
              "#bd3786"
             ],
             [
              0.5555555555555556,
              "#d8576b"
             ],
             [
              0.6666666666666666,
              "#ed7953"
             ],
             [
              0.7777777777777778,
              "#fb9f3a"
             ],
             [
              0.8888888888888888,
              "#fdca26"
             ],
             [
              1,
              "#f0f921"
             ]
            ],
            "type": "heatmapgl"
           }
          ],
          "histogram": [
           {
            "marker": {
             "pattern": {
              "fillmode": "overlay",
              "size": 10,
              "solidity": 0.2
             }
            },
            "type": "histogram"
           }
          ],
          "histogram2d": [
           {
            "colorbar": {
             "outlinewidth": 0,
             "ticks": ""
            },
            "colorscale": [
             [
              0,
              "#0d0887"
             ],
             [
              0.1111111111111111,
              "#46039f"
             ],
             [
              0.2222222222222222,
              "#7201a8"
             ],
             [
              0.3333333333333333,
              "#9c179e"
             ],
             [
              0.4444444444444444,
              "#bd3786"
             ],
             [
              0.5555555555555556,
              "#d8576b"
             ],
             [
              0.6666666666666666,
              "#ed7953"
             ],
             [
              0.7777777777777778,
              "#fb9f3a"
             ],
             [
              0.8888888888888888,
              "#fdca26"
             ],
             [
              1,
              "#f0f921"
             ]
            ],
            "type": "histogram2d"
           }
          ],
          "histogram2dcontour": [
           {
            "colorbar": {
             "outlinewidth": 0,
             "ticks": ""
            },
            "colorscale": [
             [
              0,
              "#0d0887"
             ],
             [
              0.1111111111111111,
              "#46039f"
             ],
             [
              0.2222222222222222,
              "#7201a8"
             ],
             [
              0.3333333333333333,
              "#9c179e"
             ],
             [
              0.4444444444444444,
              "#bd3786"
             ],
             [
              0.5555555555555556,
              "#d8576b"
             ],
             [
              0.6666666666666666,
              "#ed7953"
             ],
             [
              0.7777777777777778,
              "#fb9f3a"
             ],
             [
              0.8888888888888888,
              "#fdca26"
             ],
             [
              1,
              "#f0f921"
             ]
            ],
            "type": "histogram2dcontour"
           }
          ],
          "mesh3d": [
           {
            "colorbar": {
             "outlinewidth": 0,
             "ticks": ""
            },
            "type": "mesh3d"
           }
          ],
          "parcoords": [
           {
            "line": {
             "colorbar": {
              "outlinewidth": 0,
              "ticks": ""
             }
            },
            "type": "parcoords"
           }
          ],
          "pie": [
           {
            "automargin": true,
            "type": "pie"
           }
          ],
          "scatter": [
           {
            "fillpattern": {
             "fillmode": "overlay",
             "size": 10,
             "solidity": 0.2
            },
            "type": "scatter"
           }
          ],
          "scatter3d": [
           {
            "line": {
             "colorbar": {
              "outlinewidth": 0,
              "ticks": ""
             }
            },
            "marker": {
             "colorbar": {
              "outlinewidth": 0,
              "ticks": ""
             }
            },
            "type": "scatter3d"
           }
          ],
          "scattercarpet": [
           {
            "marker": {
             "colorbar": {
              "outlinewidth": 0,
              "ticks": ""
             }
            },
            "type": "scattercarpet"
           }
          ],
          "scattergeo": [
           {
            "marker": {
             "colorbar": {
              "outlinewidth": 0,
              "ticks": ""
             }
            },
            "type": "scattergeo"
           }
          ],
          "scattergl": [
           {
            "marker": {
             "colorbar": {
              "outlinewidth": 0,
              "ticks": ""
             }
            },
            "type": "scattergl"
           }
          ],
          "scattermapbox": [
           {
            "marker": {
             "colorbar": {
              "outlinewidth": 0,
              "ticks": ""
             }
            },
            "type": "scattermapbox"
           }
          ],
          "scatterpolar": [
           {
            "marker": {
             "colorbar": {
              "outlinewidth": 0,
              "ticks": ""
             }
            },
            "type": "scatterpolar"
           }
          ],
          "scatterpolargl": [
           {
            "marker": {
             "colorbar": {
              "outlinewidth": 0,
              "ticks": ""
             }
            },
            "type": "scatterpolargl"
           }
          ],
          "scatterternary": [
           {
            "marker": {
             "colorbar": {
              "outlinewidth": 0,
              "ticks": ""
             }
            },
            "type": "scatterternary"
           }
          ],
          "surface": [
           {
            "colorbar": {
             "outlinewidth": 0,
             "ticks": ""
            },
            "colorscale": [
             [
              0,
              "#0d0887"
             ],
             [
              0.1111111111111111,
              "#46039f"
             ],
             [
              0.2222222222222222,
              "#7201a8"
             ],
             [
              0.3333333333333333,
              "#9c179e"
             ],
             [
              0.4444444444444444,
              "#bd3786"
             ],
             [
              0.5555555555555556,
              "#d8576b"
             ],
             [
              0.6666666666666666,
              "#ed7953"
             ],
             [
              0.7777777777777778,
              "#fb9f3a"
             ],
             [
              0.8888888888888888,
              "#fdca26"
             ],
             [
              1,
              "#f0f921"
             ]
            ],
            "type": "surface"
           }
          ],
          "table": [
           {
            "cells": {
             "fill": {
              "color": "#EBF0F8"
             },
             "line": {
              "color": "white"
             }
            },
            "header": {
             "fill": {
              "color": "#C8D4E3"
             },
             "line": {
              "color": "white"
             }
            },
            "type": "table"
           }
          ]
         },
         "layout": {
          "annotationdefaults": {
           "arrowcolor": "#2a3f5f",
           "arrowhead": 0,
           "arrowwidth": 1
          },
          "autotypenumbers": "strict",
          "coloraxis": {
           "colorbar": {
            "outlinewidth": 0,
            "ticks": ""
           }
          },
          "colorscale": {
           "diverging": [
            [
             0,
             "#8e0152"
            ],
            [
             0.1,
             "#c51b7d"
            ],
            [
             0.2,
             "#de77ae"
            ],
            [
             0.3,
             "#f1b6da"
            ],
            [
             0.4,
             "#fde0ef"
            ],
            [
             0.5,
             "#f7f7f7"
            ],
            [
             0.6,
             "#e6f5d0"
            ],
            [
             0.7,
             "#b8e186"
            ],
            [
             0.8,
             "#7fbc41"
            ],
            [
             0.9,
             "#4d9221"
            ],
            [
             1,
             "#276419"
            ]
           ],
           "sequential": [
            [
             0,
             "#0d0887"
            ],
            [
             0.1111111111111111,
             "#46039f"
            ],
            [
             0.2222222222222222,
             "#7201a8"
            ],
            [
             0.3333333333333333,
             "#9c179e"
            ],
            [
             0.4444444444444444,
             "#bd3786"
            ],
            [
             0.5555555555555556,
             "#d8576b"
            ],
            [
             0.6666666666666666,
             "#ed7953"
            ],
            [
             0.7777777777777778,
             "#fb9f3a"
            ],
            [
             0.8888888888888888,
             "#fdca26"
            ],
            [
             1,
             "#f0f921"
            ]
           ],
           "sequentialminus": [
            [
             0,
             "#0d0887"
            ],
            [
             0.1111111111111111,
             "#46039f"
            ],
            [
             0.2222222222222222,
             "#7201a8"
            ],
            [
             0.3333333333333333,
             "#9c179e"
            ],
            [
             0.4444444444444444,
             "#bd3786"
            ],
            [
             0.5555555555555556,
             "#d8576b"
            ],
            [
             0.6666666666666666,
             "#ed7953"
            ],
            [
             0.7777777777777778,
             "#fb9f3a"
            ],
            [
             0.8888888888888888,
             "#fdca26"
            ],
            [
             1,
             "#f0f921"
            ]
           ]
          },
          "colorway": [
           "#636efa",
           "#EF553B",
           "#00cc96",
           "#ab63fa",
           "#FFA15A",
           "#19d3f3",
           "#FF6692",
           "#B6E880",
           "#FF97FF",
           "#FECB52"
          ],
          "font": {
           "color": "#2a3f5f"
          },
          "geo": {
           "bgcolor": "white",
           "lakecolor": "white",
           "landcolor": "#E5ECF6",
           "showlakes": true,
           "showland": true,
           "subunitcolor": "white"
          },
          "hoverlabel": {
           "align": "left"
          },
          "hovermode": "closest",
          "mapbox": {
           "style": "light"
          },
          "paper_bgcolor": "white",
          "plot_bgcolor": "#E5ECF6",
          "polar": {
           "angularaxis": {
            "gridcolor": "white",
            "linecolor": "white",
            "ticks": ""
           },
           "bgcolor": "#E5ECF6",
           "radialaxis": {
            "gridcolor": "white",
            "linecolor": "white",
            "ticks": ""
           }
          },
          "scene": {
           "xaxis": {
            "backgroundcolor": "#E5ECF6",
            "gridcolor": "white",
            "gridwidth": 2,
            "linecolor": "white",
            "showbackground": true,
            "ticks": "",
            "zerolinecolor": "white"
           },
           "yaxis": {
            "backgroundcolor": "#E5ECF6",
            "gridcolor": "white",
            "gridwidth": 2,
            "linecolor": "white",
            "showbackground": true,
            "ticks": "",
            "zerolinecolor": "white"
           },
           "zaxis": {
            "backgroundcolor": "#E5ECF6",
            "gridcolor": "white",
            "gridwidth": 2,
            "linecolor": "white",
            "showbackground": true,
            "ticks": "",
            "zerolinecolor": "white"
           }
          },
          "shapedefaults": {
           "line": {
            "color": "#2a3f5f"
           }
          },
          "ternary": {
           "aaxis": {
            "gridcolor": "white",
            "linecolor": "white",
            "ticks": ""
           },
           "baxis": {
            "gridcolor": "white",
            "linecolor": "white",
            "ticks": ""
           },
           "bgcolor": "#E5ECF6",
           "caxis": {
            "gridcolor": "white",
            "linecolor": "white",
            "ticks": ""
           }
          },
          "title": {
           "x": 0.05
          },
          "xaxis": {
           "automargin": true,
           "gridcolor": "white",
           "linecolor": "white",
           "ticks": "",
           "title": {
            "standoff": 15
           },
           "zerolinecolor": "white",
           "zerolinewidth": 2
          },
          "yaxis": {
           "automargin": true,
           "gridcolor": "white",
           "linecolor": "white",
           "ticks": "",
           "title": {
            "standoff": 15
           },
           "zerolinecolor": "white",
           "zerolinewidth": 2
          }
         }
        },
        "xaxis": {
         "anchor": "y",
         "domain": [
          0,
          1
         ],
         "title": {
          "text": "x"
         }
        },
        "yaxis": {
         "anchor": "x",
         "domain": [
          0,
          1
         ],
         "title": {
          "text": "y"
         }
        }
       }
      }
     },
     "metadata": {},
     "output_type": "display_data"
    }
   ],
   "source": [
    "# compute and print MAE\n",
    "mae = mean_absolute_error(df_pred.y, df_pred.y_pred)\n",
    "rmse = np.sqrt(mean_squared_error(df_pred.y, df_pred.y_pred))\n",
    "pearson_corr= pearsonr(df_pred.y, df_pred.y_pred)[0]**2\n",
    "print(f\"Mean Absolute Error (MAE): {mae:.2f} (RMSE): {rmse:.2f} R: {pearson_corr:.2f} N:{len(df_pred)}\")\n",
    "\n",
    "import plotly.express as px\n",
    "fig = px.scatter(x=df_pred.y_pred, y=df_pred.y)\n",
    "fig.show()"
   ]
  }
 ],
 "metadata": {
  "kernelspec": {
   "display_name": "Python 3 (ipykernel)",
   "language": "python",
   "name": "python3"
  },
  "language_info": {
   "codemirror_mode": {
    "name": "ipython",
    "version": 3
   },
   "file_extension": ".py",
   "mimetype": "text/x-python",
   "name": "python",
   "nbconvert_exporter": "python",
   "pygments_lexer": "ipython3",
   "version": "3.10.11"
  }
 },
 "nbformat": 4,
 "nbformat_minor": 5
}
